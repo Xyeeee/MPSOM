{
 "cells": [
  {
   "cell_type": "code",
   "execution_count": 1,
   "id": "b4a85bec",
   "metadata": {},
   "outputs": [
    {
     "data": {
      "text/plain": [
       "coef (generic function with 1 method)"
      ]
     },
     "metadata": {},
     "output_type": "display_data"
    }
   ],
   "source": [
    "include(\"Multivariate_Gaussian.jl\")\n",
    "function coef(a, n)\n",
    "    return prod([a / sqrt(x) for x in range(1, n)])\n",
    "end"
   ]
  },
  {
   "cell_type": "code",
   "execution_count": 2,
   "id": "78216bec",
   "metadata": {},
   "outputs": [
    {
     "data": {
      "text/plain": [
       "c_state (generic function with 1 method)"
      ]
     },
     "metadata": {},
     "output_type": "display_data"
    }
   ],
   "source": [
    "function c_state(alpha,g₂,t,N_th)\n",
    "    min_n = 0#Int(floor(alpha - 4 * sqrt(alpha)))\n",
    "    max_n = Int(ceil(alpha^2 + 4 * alpha))\n",
    "    size_mat = max_n - min_n + 1\n",
    "    state_vec = [exp(-alpha^2 / 2) * coef(alpha,n) for n in min_n:max_n]\n",
    "    state_vec = state_vec / norm(state_vec)\n",
    "    mat = state_vec*state_vec'\n",
    "    ρ = zeros(Complex{Float64}, size_mat, size_mat)\n",
    "    for i in 1:size_mat\n",
    "        for j in 1:size_mat\n",
    "            ρ[i,j] = int_total(i + min_n - 1,j + min_n -1,g₂,t,N_th)*mat[i,j]\n",
    "        end\n",
    "    end\n",
    "    return ρ\n",
    "end\n",
    "\n"
   ]
  },
  {
   "cell_type": "code",
   "execution_count": 3,
   "id": "d5a5367f",
   "metadata": {},
   "outputs": [],
   "source": [
    "using CairoMakie\n",
    "CairoMakie.activate!(type = \"svg\", pt_per_unit = 1)\n",
    "CairoMakie.enable_only_mime!(MIME\"image/svg+xml\"())"
   ]
  },
  {
   "cell_type": "code",
   "execution_count": 10,
   "id": "06a36cc4",
   "metadata": {},
   "outputs": [],
   "source": [
    "using QuantumToolbox\n",
    "\n",
    "max_t = 700\n",
    "qobjs = [\n",
    "    # Qobj(c_state(3,1e-2,t,1.0))\n",
    "    Qobj([0.5 0.2*int_total(0,1,0.01,t,1); 0.2*int_total(1,0,0.01,t,1) 0.5])\n",
    "    for t in range(0, max_t, length = 30)\n",
    "];"
   ]
  },
  {
   "cell_type": "code",
   "execution_count": null,
   "id": "8b14f426",
   "metadata": {},
   "outputs": [
    {
     "data": {
      "text/plain": [
       "\"wigner.mp4\""
      ]
     },
     "metadata": {},
     "output_type": "display_data"
    }
   ],
   "source": [
    "xvec = range(-5, 5, length = 100)\n",
    "\n",
    "fig = Figure(size = (800, 800), figure_padding = 0,legend=:outertopright)\n",
    "record(fig, \"wigner.mp4\", 1:length(qobjs); framerate=1) do i\n",
    "    content = plot_wigner(qobjs[i], xvec = xvec, yvec = xvec, g = 1, library = Val(:Makie), location = fig[1,1],colormap =:Benedictus,label = \"t = $(i * max_t * length(qobjs)))\")\n",
    "fig\n",
    "end"
   ]
  },
  {
   "cell_type": "code",
   "execution_count": 14,
   "id": "be5abe5b",
   "metadata": {},
   "outputs": [
    {
     "data": {
      "text/plain": [
       "631.4445705514985"
      ]
     },
     "metadata": {},
     "output_type": "display_data"
    }
   ],
   "source": [
    "2 * pi/ (Ω(1,0.01)- Ω(0,0.01))"
   ]
  }
 ],
 "metadata": {
  "kernelspec": {
   "display_name": "Julia 1.11.3",
   "language": "julia",
   "name": "julia-1.11"
  },
  "language_info": {
   "file_extension": ".jl",
   "mimetype": "application/julia",
   "name": "julia",
   "version": "1.11.3"
  }
 },
 "nbformat": 4,
 "nbformat_minor": 5
}
